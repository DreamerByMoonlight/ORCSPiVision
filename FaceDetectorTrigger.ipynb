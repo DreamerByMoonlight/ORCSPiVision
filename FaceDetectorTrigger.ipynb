{
 "cells": [
  {
   "cell_type": "code",
   "execution_count": null,
   "id": "ee52ccb7",
   "metadata": {},
   "outputs": [],
   "source": [
    "from aiy.vision.inference import CameraInference\n",
    "from aiy.vision.models import face_detection\n",
    "from aiy.leds import Leds, Color\n",
    "\n",
    "from picamera import PiCamera\n",
    "from IPython.display import Image, display, clear_output\n",
    "\n",
    "import contextlib\n",
    "\n",
    "imageDir = \"/home/pi/Pictures\"\n",
    "joyTreshhold = 0.5"
   ]
  },
  {
   "cell_type": "code",
   "execution_count": null,
   "id": "01f89e8d",
   "metadata": {},
   "outputs": [],
   "source": [
    "with contextlib.ExitStack() as stack:\n",
    "    leds   = stack.enter_context(Leds())\n",
    "    camera = stack.enter_context(PiCamera(sensor_mode=4, resolution=(820, 616)))\n",
    "\n",
    "    print (\"Loading model - hold on ..\")\n",
    "    \n",
    "    # Do inference on VisionBonnet\n",
    "    with CameraInference(face_detection.model()) as inference:\n",
    "        try:   \n",
    "            for result in inference.run():\n",
    "                leds.update(Leds.rgb_on(Color.RED))\n",
    "                faces = face_detection.get_faces(result)\n",
    "                if len(faces) >= 1:\n",
    "                    clear_output(wait=True)                 \n",
    "                    leds.update(Leds.rgb_on(Color.GREEN))\n",
    "                    print(\"Joy score: \", faces[0].joy_score)\n",
    "                    \n",
    "                    if(faces[0].joy_score > joyTreshhold):\n",
    "                        print(\"Joy detected - saving picture ..\")\n",
    "                        camera.capture(imageDir+'/faceDetect.jpg')\n",
    "                        display(Image(filename=imageDir+'/faceDetect.jpg'))\n",
    "                        break\n",
    "                        \n",
    "        except KeyboardInterrupt:\n",
    "            print(\"Interrupted ..\")\n",
    "            \n",
    "    leds.update(Leds.rgb_off())\n",
    "    print(\"Done\")"
   ]
  },
  {
   "cell_type": "code",
   "execution_count": null,
   "id": "0fd1edd4",
   "metadata": {},
   "outputs": [],
   "source": []
  }
 ],
 "metadata": {
  "kernelspec": {
   "display_name": "Python 3 (ipykernel)",
   "language": "python",
   "name": "python3"
  },
  "language_info": {
   "codemirror_mode": {
    "name": "ipython",
    "version": 3
   },
   "file_extension": ".py",
   "mimetype": "text/x-python",
   "name": "python",
   "nbconvert_exporter": "python",
   "pygments_lexer": "ipython3",
   "version": "3.7.3"
  }
 },
 "nbformat": 4,
 "nbformat_minor": 5
}
