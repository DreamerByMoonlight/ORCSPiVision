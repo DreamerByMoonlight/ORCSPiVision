{
 "cells": [
  {
   "cell_type": "markdown",
   "id": "960f6eee",
   "metadata": {},
   "source": [
    "### Servo Test\n",
    "\n",
    "Testing to run a servo."
   ]
  },
  {
   "cell_type": "code",
   "execution_count": null,
   "id": "20a7fbbb",
   "metadata": {},
   "outputs": [],
   "source": [
    "from gpiozero import Servo\n",
    "from aiy.pins import PIN_B\n",
    "import time\n",
    "\n",
    "# Create a servo with the custom values to give the full dynamic range.\n",
    "servo = Servo(PIN_B, min_pulse_width=.0005, max_pulse_width=.0019)"
   ]
  },
  {
   "cell_type": "code",
   "execution_count": null,
   "id": "d50d8ddc",
   "metadata": {},
   "outputs": [],
   "source": [
    "# Move the Servos back and forth until the user terminates the example.\n",
    "\n",
    "try:\n",
    "    while True:\n",
    "        servo.max()\n",
    "        time.sleep(1)\n",
    "        servo.mid()\n",
    "        time.sleep(1)\n",
    "        servo.min()\n",
    "        time.sleep(1)\n",
    "except KeyboardInterrupt: # If CTRL+C is pressed, exit cleanly:\n",
    "    print(\"Keyboard interrupt\")\n"
   ]
  },
  {
   "cell_type": "code",
   "execution_count": null,
   "id": "2fde46a0",
   "metadata": {},
   "outputs": [],
   "source": [
    "servo.close()"
   ]
  },
  {
   "cell_type": "code",
   "execution_count": null,
   "id": "548f71a1",
   "metadata": {},
   "outputs": [],
   "source": []
  }
 ],
 "metadata": {
  "kernelspec": {
   "display_name": "Python 3 (ipykernel)",
   "language": "python",
   "name": "python3"
  },
  "language_info": {
   "codemirror_mode": {
    "name": "ipython",
    "version": 3
   },
   "file_extension": ".py",
   "mimetype": "text/x-python",
   "name": "python",
   "nbconvert_exporter": "python",
   "pygments_lexer": "ipython3",
   "version": "3.7.3"
  }
 },
 "nbformat": 4,
 "nbformat_minor": 5
}
